{
 "cells": [
  {
   "cell_type": "markdown",
   "metadata": {},
   "source": [
    "# Analyse Commit Classification \n",
    "\n",
    "Analysis of Prospector reports with respect to commit classification. Compares results with and without commit classification."
   ]
  },
  {
   "cell_type": "code",
   "execution_count": 2,
   "metadata": {},
   "outputs": [],
   "source": [
    "import json\n",
    "import sys\n",
    "import os\n",
    "from omegaconf import OmegaConf\n",
    "\n",
    "# print(os.getcwdb())\n",
    "config = OmegaConf.load(\"config.yaml\")"
   ]
  },
  {
   "cell_type": "markdown",
   "metadata": {},
   "source": [
    "## Load Data \n",
    "\n",
    "Load the JSON data from the files created by `fetch.py`. "
   ]
  },
  {
   "cell_type": "code",
   "execution_count": 3,
   "metadata": {},
   "outputs": [],
   "source": [
    "with open(\"../../../\" + config.ground_truth, \"r\") as f1, open(\n",
    "    \"../../../\" + config.no_cc, \"r\"\n",
    ") as f2:\n",
    "    f1_data = json.load(f1)  # baseline\n",
    "    f2_data = json.load(f2)  # prospector without cc\n",
    "    # f3_data = json.load(f3)  # propsector with cc"
   ]
  },
  {
   "cell_type": "markdown",
   "metadata": {},
   "source": [
    "## Analysis\n",
    "\n",
    "### How many fixing commits have been correctly obtained by Prospector? \n",
    "\n",
    "Find out how many fixing commits have been obtained correctly using Prospector: "
   ]
  },
  {
   "cell_type": "code",
   "execution_count": 4,
   "metadata": {},
   "outputs": [],
   "source": [
    "def count_correct_results(ground_truth_data, prospector_data):\n",
    "    count_correct = 0\n",
    "    count_correct_first_3 = 0\n",
    "\n",
    "    for cve_record in ground_truth_data[\"ground_truth\"]:\n",
    "        cve_id = cve_record[\"vulnerability_id\"]\n",
    "\n",
    "        prospector_cve_record = prospector_data[\"vulnerabilities\"].get(cve_id, None)\n",
    "        if prospector_cve_record is not None:\n",
    "            # print(f\"{cve_id} in both baseline and prospector.\") # Sanity check\n",
    "\n",
    "            true_fixing_commits = [\n",
    "                commit[\"id\"] for fix in cve_record[\"fixes\"] for commit in fix[\"commits\"]\n",
    "            ]\n",
    "\n",
    "            if prospector_cve_record[\"commits\"]:\n",
    "                first_fixing_commit = prospector_cve_record[\"commits\"][0][\"commit_hash\"]\n",
    "                first_3_fixing_commits = [\n",
    "                    commit[\"commit_hash\"]\n",
    "                    for commit in prospector_cve_record[\"commits\"][:3]\n",
    "                ]\n",
    "\n",
    "            if first_fixing_commit in true_fixing_commits:\n",
    "                count_correct += 1\n",
    "\n",
    "            if set(first_3_fixing_commits) & set(true_fixing_commits):\n",
    "                count_correct_first_3 += 1\n",
    "\n",
    "    return count_correct, count_correct_first_3"
   ]
  },
  {
   "cell_type": "code",
   "execution_count": 12,
   "metadata": {},
   "outputs": [
    {
     "name": "stdout",
     "output_type": "stream",
     "text": [
      "(16, 19)\n",
      "out of 197.\n"
     ]
    }
   ],
   "source": [
    "cves_2018 = []\n",
    "for file in os.listdir(\"../../../data_sources/reports/\"):\n",
    "    if file.startswith(\"CVE-2018-\"):\n",
    "        cves_2018.append(file)\n",
    "\n",
    "print(count_correct_results(f1_data, f2_data))\n",
    "# print(count_correct_results(f1_data, f3_data))\n",
    "\n",
    "print(f\"out of {len(cves_2018)}.\")"
   ]
  },
  {
   "cell_type": "markdown",
   "metadata": {},
   "source": [
    "### First 10 candidates\n",
    "\n",
    "In how many reports is the fixing commit within the first 10 candidate? This is important to know to see how many commits the LLM rules should be applied to. I should compare the percentages of correct fixing commits for different numbers of candidate commits, eg. 1, 3, 5, and 10. I need to compare using Prospector without the cc rule. \n",
    "\n",
    "Right now, I have the outcomes of the 58 2019 CVEs, let's start comparing with those. "
   ]
  },
  {
   "cell_type": "code",
   "execution_count": 6,
   "metadata": {},
   "outputs": [],
   "source": [
    "def count_among_first_x_candidates(ground_truth_data, prospector_data):\n",
    "    count_correct = 0\n",
    "    count_correct_first_3 = 0\n",
    "    count_correct_first_5 = 0\n",
    "    count_correct_first_10 = 0\n",
    "\n",
    "    for cve_record in ground_truth_data[\"ground_truth\"]:\n",
    "        cve_id = cve_record[\"vulnerability_id\"]\n",
    "\n",
    "        prospector_cve_record = prospector_data[\"vulnerabilities\"].get(cve_id, None)\n",
    "        if prospector_cve_record is not None:\n",
    "            # print(f\"{cve_id} in both baseline and prospector.\") # Sanity check\n",
    "\n",
    "            true_fixing_commits = [\n",
    "                commit[\"id\"] for fix in cve_record[\"fixes\"] for commit in fix[\"commits\"]\n",
    "            ]\n",
    "\n",
    "            if prospector_cve_record[\"commits\"]:\n",
    "                first_fixing_commit = prospector_cve_record[\"commits\"][0][\"commit_hash\"]\n",
    "                first_3_fixing_commits = [\n",
    "                    commit[\"commit_hash\"]\n",
    "                    for commit in prospector_cve_record[\"commits\"][:3]\n",
    "                ]\n",
    "                first_5_fixing_commits = [\n",
    "                    commit[\"commit_hash\"]\n",
    "                    for commit in prospector_cve_record[\"commits\"][:5]\n",
    "                ]\n",
    "                first_10_fixing_commits = [\n",
    "                    commit[\"commit_hash\"]\n",
    "                    for commit in prospector_cve_record[\"commits\"][:10]\n",
    "                ]\n",
    "\n",
    "            if first_fixing_commit in true_fixing_commits:\n",
    "                count_correct += 1\n",
    "\n",
    "            if set(first_3_fixing_commits) & set(true_fixing_commits):\n",
    "                count_correct_first_3 += 1\n",
    "            if set(first_5_fixing_commits) & set(true_fixing_commits):\n",
    "                count_correct_first_5 += 1\n",
    "            if set(first_10_fixing_commits) & set(true_fixing_commits):\n",
    "                count_correct_first_10 += 1\n",
    "\n",
    "    return (\n",
    "        count_correct,\n",
    "        count_correct_first_3,\n",
    "        count_correct_first_5,\n",
    "        count_correct_first_10,\n",
    "    )"
   ]
  },
  {
   "cell_type": "code",
   "execution_count": 10,
   "metadata": {},
   "outputs": [
    {
     "name": "stdout",
     "output_type": "stream",
     "text": [
      "16 times fixing commit among the first candidate commit, \n",
      "19 times fixing commit among top 3 candidates, \n",
      "19 times fixing commit among top 5 candidates, \n",
      "21 times fixing commit among top 10 candidates out of 42 commits in total.\n"
     ]
    }
   ],
   "source": [
    "with open(\"../../../\" + config.ground_truth_2019, \"r\") as f1, open(\n",
    "    \"../../../\" + config.no_cc_2019, \"r\"\n",
    ") as f2:\n",
    "    f1_data = json.load(f1)  # ground truth from Project KB\n",
    "    f2_data = json.load(f2)  # prospector results (without CC)\n",
    "\n",
    "oo1, oo3, oo5, oo10 = count_among_first_x_candidates(f1_data, f2_data)\n",
    "print(\n",
    "    f\"{oo1} times fixing commit among the first candidate commit, \\n{oo3} times fixing commit among top 3 candidates, \\n{oo5} times fixing commit among top 5 candidates, \\n{oo10} times fixing commit among top 10 candidates out of {len(f2_data['vulnerabilities'])} commits in total.\"\n",
    ")"
   ]
  }
 ],
 "metadata": {
  "kernelspec": {
   "display_name": ".venv",
   "language": "python",
   "name": "python3"
  },
  "language_info": {
   "codemirror_mode": {
    "name": "ipython",
    "version": 3
   },
   "file_extension": ".py",
   "mimetype": "text/x-python",
   "name": "python",
   "nbconvert_exporter": "python",
   "pygments_lexer": "ipython3",
   "version": "3.10.12"
  }
 },
 "nbformat": 4,
 "nbformat_minor": 2
}
