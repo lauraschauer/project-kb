{
 "cells": [
  {
   "cell_type": "markdown",
   "metadata": {},
   "source": [
    "# Analyse Commit Classification \n",
    "\n",
    "Analysis of Prospector reports with respect to commit classification. Compares results with and without commit classification."
   ]
  },
  {
   "cell_type": "code",
   "execution_count": 2,
   "metadata": {},
   "outputs": [],
   "source": [
    "import json\n",
    "import sys\n",
    "import os\n",
    "from omegaconf import OmegaConf\n",
    "\n",
    "# print(os.getcwdb())\n",
    "config = OmegaConf.load(\"../config.yaml\")"
   ]
  },
  {
   "cell_type": "markdown",
   "metadata": {},
   "source": [
    "## Analysis\n",
    "\n",
    "### How many fixing commits have been correctly obtained by Prospector? \n",
    "\n",
    "Find out how many fixing commits have been obtained correctly using Prospector: "
   ]
  },
  {
   "cell_type": "code",
   "execution_count": 5,
   "metadata": {},
   "outputs": [],
   "source": [
    "def count_correct_results(ground_truth_data, prospector_data):\n",
    "    count_correct = 0\n",
    "    count_correct_first_3 = 0\n",
    "\n",
    "    for cve_record in ground_truth_data[\"ground_truth\"]:\n",
    "        cve_id = cve_record[\"vulnerability_id\"]\n",
    "\n",
    "        prospector_cve_record = prospector_data[\"vulnerabilities\"].get(cve_id, None)\n",
    "        if prospector_cve_record is not None:\n",
    "            # print(f\"{cve_id} in both baseline and prospector.\") # Sanity check\n",
    "\n",
    "            true_fixing_commits = [\n",
    "                commit[\"id\"] for fix in cve_record[\"fixes\"] for commit in fix[\"commits\"]\n",
    "            ]\n",
    "\n",
    "            if prospector_cve_record[\"commits\"]:\n",
    "                first_fixing_commit = prospector_cve_record[\"commits\"][0][\"commit_hash\"]\n",
    "                first_3_fixing_commits = [\n",
    "                    commit[\"commit_hash\"]\n",
    "                    for commit in prospector_cve_record[\"commits\"][:3]\n",
    "                ]\n",
    "\n",
    "            if first_fixing_commit in true_fixing_commits:\n",
    "                count_correct += 1\n",
    "\n",
    "            if set(first_3_fixing_commits) & set(true_fixing_commits):\n",
    "                count_correct_first_3 += 1\n",
    "\n",
    "    return count_correct, count_correct_first_3"
   ]
  },
  {
   "cell_type": "code",
   "execution_count": 6,
   "metadata": {},
   "outputs": [
    {
     "name": "stdout",
     "output_type": "stream",
     "text": [
      "91 times the top candidate was the true fixing commit, \n",
      "112 times the top 3 candidates contained the true fixing commit out of 18 reports.\n"
     ]
    }
   ],
   "source": [
    "with open(\"../../../\" + config.ground_truth, \"r\") as f1, open(\n",
    "    \"../../../\" + config.no_cc, \"r\"\n",
    ") as f2:\n",
    "    ground_truth_data = json.load(f1)  # baseline from project KB\n",
    "    prospector_results = json.load(f2)  # prospector results without cc\n",
    "\n",
    "cves_2018 = []\n",
    "for file in os.listdir(\"../../../data_sources/reports/\"):\n",
    "    if file.startswith(\"CVE-2018-\"):\n",
    "        cves_2018.append(file)\n",
    "\n",
    "correct_is_top, correct_in_top_3 = count_correct_results(\n",
    "    ground_truth_data, prospector_results\n",
    ")\n",
    "print(\n",
    "    f\"{correct_is_top} times the top candidate was the true fixing commit, \\n{correct_in_top_3} times the top 3 candidates contained the true fixing commit out of {len(cves_2018)} reports.\"\n",
    ")"
   ]
  },
  {
   "cell_type": "markdown",
   "metadata": {},
   "source": [
    "##### 2018 CVEs\n",
    "\n",
    "Without Commit Classification Rule: "
   ]
  },
  {
   "cell_type": "code",
   "execution_count": null,
   "metadata": {},
   "outputs": [],
   "source": [
    "with open(\"../../../\" + config.ground_truth, \"r\") as f1, open(\n",
    "    \"../../../\" + config.no_cc, \"r\"\n",
    ") as f2:\n",
    "    ground_truth_data = json.load(f1)  # baseline from project KB\n",
    "    prospector_results = json.load(f2)  # prospector results without cc\n",
    "\n",
    "cves_2018 = []\n",
    "for file in os.listdir(\"../../../data_sources/reports/\"):\n",
    "    if file.startswith(\"CVE-2018-\"):\n",
    "        cves_2018.append(file)\n",
    "\n",
    "correct_is_top, correct_in_top_3 = count_correct_results(\n",
    "    ground_truth_data, prospector_results\n",
    ")\n",
    "print(\n",
    "    f\"{correct_is_top} times the top candidate was the true fixing commit, \\n{correct_in_top_3} times the top 3 candidates contained the true fixing commit out of {len(cves_2018)} reports.\"\n",
    ")"
   ]
  },
  {
   "cell_type": "markdown",
   "metadata": {},
   "source": [
    "With Commit Classification Rule: "
   ]
  },
  {
   "cell_type": "code",
   "execution_count": 7,
   "metadata": {},
   "outputs": [
    {
     "name": "stdout",
     "output_type": "stream",
     "text": [
      "13 times the top candidate was the true fixing commit, \n",
      "15 times the top 3 candidates contained the true fixing commit out of 18 reports.\n"
     ]
    }
   ],
   "source": [
    "with open(\"../../../\" + config.ground_truth, \"r\") as f1, open(\n",
    "    \"../../../\" + config.with_cc, \"r\"\n",
    ") as f2:\n",
    "    ground_truth_data = json.load(f1)  # baseline from project KB\n",
    "    prospector_results = json.load(f2)  # prospector results without cc\n",
    "\n",
    "cves_2018 = []\n",
    "for file in os.listdir(\"../../../data_sources/reports/\"):\n",
    "    if file.startswith(\"CVE-2018-\"):\n",
    "        cves_2018.append(file)\n",
    "\n",
    "correct_is_top, correct_in_top_3 = count_correct_results(\n",
    "    ground_truth_data, prospector_results\n",
    ")\n",
    "print(\n",
    "    f\"{correct_is_top} times the top candidate was the true fixing commit, \\n{correct_in_top_3} times the top 3 candidates contained the true fixing commit out of {len(cves_2018)} reports.\"\n",
    ")"
   ]
  },
  {
   "cell_type": "markdown",
   "metadata": {},
   "source": [
    "### First 10 candidates\n",
    "\n",
    "In how many reports is the fixing commit within the first 10 candidate? This is important to know to see how many commits the LLM rules should be applied to. I should compare the percentages of correct fixing commits for different numbers of candidate commits, eg. 1, 3, 5, and 10. I need to compare using Prospector without the cc rule."
   ]
  },
  {
   "cell_type": "code",
   "execution_count": 6,
   "metadata": {},
   "outputs": [],
   "source": [
    "def count_among_first_x_candidates(ground_truth_data, prospector_data):\n",
    "    count_correct = 0\n",
    "    count_correct_first_3 = 0\n",
    "    count_correct_first_5 = 0\n",
    "    count_correct_first_10 = 0\n",
    "\n",
    "    for cve_record in ground_truth_data[\"ground_truth\"]:\n",
    "        cve_id = cve_record[\"vulnerability_id\"]\n",
    "\n",
    "        prospector_cve_record = prospector_data[\"vulnerabilities\"].get(cve_id, None)\n",
    "        if prospector_cve_record is not None:\n",
    "            # print(f\"{cve_id} in both baseline and prospector.\") # Sanity check\n",
    "\n",
    "            true_fixing_commits = [\n",
    "                commit[\"id\"] for fix in cve_record[\"fixes\"] for commit in fix[\"commits\"]\n",
    "            ]\n",
    "\n",
    "            if prospector_cve_record[\"commits\"]:\n",
    "                first_fixing_commit = prospector_cve_record[\"commits\"][0][\"commit_hash\"]\n",
    "                first_3_fixing_commits = [\n",
    "                    commit[\"commit_hash\"]\n",
    "                    for commit in prospector_cve_record[\"commits\"][:3]\n",
    "                ]\n",
    "                first_5_fixing_commits = [\n",
    "                    commit[\"commit_hash\"]\n",
    "                    for commit in prospector_cve_record[\"commits\"][:5]\n",
    "                ]\n",
    "                first_10_fixing_commits = [\n",
    "                    commit[\"commit_hash\"]\n",
    "                    for commit in prospector_cve_record[\"commits\"][:10]\n",
    "                ]\n",
    "\n",
    "            if first_fixing_commit in true_fixing_commits:\n",
    "                count_correct += 1\n",
    "\n",
    "            if set(first_3_fixing_commits) & set(true_fixing_commits):\n",
    "                count_correct_first_3 += 1\n",
    "            if set(first_5_fixing_commits) & set(true_fixing_commits):\n",
    "                count_correct_first_5 += 1\n",
    "            if set(first_10_fixing_commits) & set(true_fixing_commits):\n",
    "                count_correct_first_10 += 1\n",
    "\n",
    "    return (\n",
    "        count_correct,\n",
    "        count_correct_first_3,\n",
    "        count_correct_first_5,\n",
    "        count_correct_first_10,\n",
    "    )"
   ]
  },
  {
   "cell_type": "markdown",
   "metadata": {},
   "source": [
    "##### 2018 CVE Reports"
   ]
  },
  {
   "cell_type": "code",
   "execution_count": 22,
   "metadata": {},
   "outputs": [
    {
     "name": "stdout",
     "output_type": "stream",
     "text": [
      "Results without using commit classification:\n",
      "\n",
      "91 times fixing commit among the first candidate commit, \n",
      "112 times fixing commit among top 3 candidates (56.57), \n",
      "114 times fixing commit among top 5 candidates (57.58), \n",
      "115 times fixing commit among top 10 candidates (58.08) out of 198 commits in total.\n",
      "\n",
      "\n",
      "Results with commit classification:\n",
      "\n"
     ]
    }
   ],
   "source": [
    "print(\"Results without using commit classification:\\n\")\n",
    "\n",
    "with open(\"../../../\" + config.ground_truth_2018, \"r\") as f1, open(\n",
    "    \"../../../\" + config.no_cc_2018, \"r\"\n",
    ") as f2:\n",
    "    f1_data = json.load(f1)  # ground truth from Project KB\n",
    "    f2_data = json.load(f2)  # prospector results (without CC)\n",
    "\n",
    "oo1, oo3, oo5, oo10 = count_among_first_x_candidates(f1_data, f2_data)\n",
    "print(\n",
    "    f\"{oo1} times fixing commit among the first candidate commit, \\n{oo3} times fixing commit among top 3 candidates ({round(100/len(f2_data['vulnerabilities'])*oo3, 2)}), \\n{oo5} times fixing commit among top 5 candidates ({round(100/len(f2_data['vulnerabilities'])*oo5, 2)}), \\n{oo10} times fixing commit among top 10 candidates ({round(100/len(f2_data['vulnerabilities'])*oo10, 2)}) out of {len(f2_data['vulnerabilities'])} commits in total.\"\n",
    ")\n",
    "\n",
    "print(\"\\n\\nResults with commit classification:\\n\")\n",
    "\n",
    "with open(\"../../../\" + config.ground_truth_2018, \"r\") as f1, open(\n",
    "    \"../../../\" + config.cc_2018, \"r\"\n",
    ") as f2:\n",
    "    f1_data = json.load(f1)  # ground truth from Project KB\n",
    "    f2_data = json.load(f2)  # prospector results (without CC)\n",
    "\n",
    "oo1, oo3, oo5, oo10 = count_among_first_x_candidates(f1_data, f2_data)\n",
    "print(\n",
    "    f\"{oo1} times fixing commit among the first candidate commit, \\n{oo3} times fixing commit among top 3 candidates ({round(100/len(f2_data['vulnerabilities'])*oo3, 2)}), \\n{oo5} times fixing commit among top 5 candidates ({round(100/len(f2_data['vulnerabilities'])*oo5, 2)}), \\n{oo10} times fixing commit among top 10 candidates ({round(100/len(f2_data['vulnerabilities'])*oo10, 2)}) out of {len(f2_data['vulnerabilities'])} commits in total.\"\n",
    ")"
   ]
  }
 ],
 "metadata": {
  "kernelspec": {
   "display_name": ".venv",
   "language": "python",
   "name": "python3"
  },
  "language_info": {
   "codemirror_mode": {
    "name": "ipython",
    "version": 3
   },
   "file_extension": ".py",
   "mimetype": "text/x-python",
   "name": "python",
   "nbconvert_exporter": "python",
   "pygments_lexer": "ipython3",
   "version": "3.10.12"
  }
 },
 "nbformat": 4,
 "nbformat_minor": 2
}
